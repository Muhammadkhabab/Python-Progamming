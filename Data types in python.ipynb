{
 "cells": [
  {
   "cell_type": "markdown",
   "metadata": {},
   "source": [
    "# Python Data Types for Beginners\n",
    "\n",
    "## Introduction\n",
    "In Python, every piece of data is an object, and each object has a specific type.\n",
    "Understanding data types is essential because they define what kind of operations can be performed on the data.\n",
    "\n",
    "### Main Data Types in Python:\n",
    "\n",
    "## 1. Numeric Types\n",
    "Numeric types represent numbers in Python. They are used for mathematical calculations and include:\n",
    "\n",
    "### a. Integer (`int`)\n",
    "- Integers are whole numbers, positive or negative, without a decimal point.\n",
    "- Example: -5, 0, 42\n",
    "### b. Float (`float`)\n",
    "- Floats are numbers with a decimal point.\n",
    "- Example: 3.14, -0.5, 2.0\n",
    "### c. Complex (`complex`)\n",
    "- Complex numbers have a real and imaginary part.\n",
    "\n"
   ]
  },
  {
   "cell_type": "code",
   "execution_count": 21,
   "metadata": {},
   "outputs": [
    {
     "name": "stdout",
     "output_type": "stream",
     "text": [
      "num1 : 24 <class 'int'>\n",
      "num2: -7 <class 'int'>\n",
      "num3: 0 <class 'int'>\n"
     ]
    }
   ],
   "source": [
    "#a. Example of integer data type\n",
    "\n",
    "num1 = 24\n",
    "num2 = -7\n",
    "num3 = 0\n",
    "\n",
    "print(\"num1 :\" , num1, type(num1))\n",
    "print(\"num2:\" , num2, type(num2))\n",
    "print(\"num3:\", num3, type(num3))"
   ]
  },
  {
   "cell_type": "code",
   "execution_count": 22,
   "metadata": {},
   "outputs": [
    {
     "name": "stdout",
     "output_type": "stream",
     "text": [
      "pi: 3.14259 <class 'float'>\n",
      "small_float: -0.234 <class 'float'>\n",
      "exp_float: 297.0 <class 'float'>\n"
     ]
    }
   ],
   "source": [
    "#b.Example of flaot data type\n",
    "pi = 3.14259\n",
    "small_float = -0.234\n",
    "exp_float = 2.97e2\n",
    "\n",
    "print(\"pi:\", pi, type(pi))\n",
    "print(\"small_float:\", small_float, type(small_float))\n",
    "print(\"exp_float:\", exp_float, type(exp_float))"
   ]
  },
  {
   "cell_type": "code",
   "execution_count": 23,
   "metadata": {},
   "outputs": [
    {
     "name": "stdout",
     "output_type": "stream",
     "text": [
      "complex_var: (3+4j) <class 'complex'>\n"
     ]
    }
   ],
   "source": [
    "#b.Example of complex data type\n",
    "complex_var = 3 + 4j\n",
    "print(\"complex_var:\", complex_var, type(complex_var))"
   ]
  },
  {
   "cell_type": "markdown",
   "metadata": {},
   "source": [
    "## 2. Text Type\n",
    "### a) String (`str`)\n",
    "- Strings are sequences of characters enclosed in quotes.\n",
    "- Strings can be defined using:\n",
    "  - Single quotes 'Hello'\n",
    "  - Double quotes \"Python\"\n",
    "  - Triple quotes '''Multiline''' or \"\"\"String\"\"\""
   ]
  },
  {
   "cell_type": "code",
   "execution_count": 24,
   "metadata": {},
   "outputs": [
    {
     "name": "stdout",
     "output_type": "stream",
     "text": [
      "single_quoted_string: Hello, Pyhton! <class 'str'>\n",
      "double_quoted_string: Learning Python is fun! <class 'str'>\n",
      "multiline_string: This is a multiline string.\n",
      "It can span multiple lines. <class 'str'>\n"
     ]
    }
   ],
   "source": [
    "#a.Example of string data type\n",
    "\n",
    "single_quoted_string = 'Hello, Pyhton!'\n",
    "double_quoted_string = \"Learning Python is fun!\"\n",
    "multiline_string = \"\"\"This is a multiline string.\n",
    "It can span multiple lines.\"\"\"\n",
    "\n",
    "\n",
    "print(\"single_quoted_string:\", single_quoted_string, type(single_quoted_string))\n",
    "print(\"double_quoted_string:\", double_quoted_string, type(double_quoted_string))\n",
    "print(\"multiline_string:\", multiline_string, type(multiline_string))"
   ]
  },
  {
   "cell_type": "markdown",
   "metadata": {},
   "source": [
    "\n",
    "### String Concatenation\n",
    "- Combining two or more strings together."
   ]
  },
  {
   "cell_type": "code",
   "execution_count": 25,
   "metadata": {},
   "outputs": [
    {
     "name": "stdout",
     "output_type": "stream",
     "text": [
      "full_name: John Doe <class 'str'>\n",
      "first_char: J <class 'str'>\n",
      "last_char: n <class 'str'>\n",
      "substring: John <class 'str'>\n",
      "Repeatation: John John John  <class 'str'>\n"
     ]
    }
   ],
   "source": [
    "#Example of string concatenation\n",
    "\n",
    "first_name = \"John\"\n",
    "last_name = \"Doe\"\n",
    "full_name = first_name + \" \" + last_name\n",
    "\n",
    "#Repeatation of string\n",
    "name_3_times = (first_name + \" \") * 3\n",
    "\n",
    "#Indexing and slicing of string\n",
    "first_char = first_name[0]\n",
    "last_char = first_name[-1]\n",
    "substring = first_name[0:4]\n",
    "\n",
    "\n",
    "print(\"full_name:\", full_name, type(full_name))\n",
    "print(\"first_char:\", first_char, type(first_char))\n",
    "print(\"last_char:\", last_char, type(last_char))\n",
    "print(\"substring:\", substring, type(substring))\n",
    "print(\"Repeatation:\", name_3_times, type(first_name))"
   ]
  },
  {
   "cell_type": "markdown",
   "metadata": {},
   "source": [
    "**Best Practices:**\n",
    "- Use single or double quotes consistently.\n",
    "- Use triple quotes for documentation and multi-line strings.\n",
    "- Use descriptive variable names."
   ]
  },
  {
   "cell_type": "code",
   "execution_count": 32,
   "metadata": {},
   "outputs": [
    {
     "name": "stdout",
     "output_type": "stream",
     "text": [
      "My Name is Muhammad Khabab And I am 24 years old.\n"
     ]
    }
   ],
   "source": [
    "first_name = \"Muhammad\"\n",
    "second_name = \"Khabab\"\n",
    "my_age = 24\n",
    "print(\"My Name is \"+ str(first_name + \" \") + str(second_name + \" \") + \"And I am \" + str(my_age) + \" years old.\")"
   ]
  },
  {
   "cell_type": "markdown",
   "metadata": {},
   "source": [
    "## 3. Boolean Type\n",
    "### a. Boolean (`bool`)\n",
    "- Boolean values represent `True` or `False`.\n",
    "- Used for condition check, loops or logical evaluation."
   ]
  },
  {
   "cell_type": "code",
   "execution_count": null,
   "metadata": {},
   "outputs": [
    {
     "name": "stdout",
     "output_type": "stream",
     "text": [
      "The pyhton is easy value is: True <class 'bool'>\n",
      "The pyhton is easy value is:: False <class 'bool'>\n",
      "yes Python is easy\n"
     ]
    }
   ],
   "source": [
    "#a.Example of bool data type\n",
    "is_python_easy = True\n",
    "is_python_hard = False\n",
    "\n",
    "print(\"The pyhton is easy value is:\", is_python_easy, type(is_python_easy))\n",
    "print(\"The pyhton is easy value is::\", is_python_hard, type(is_python_hard))\n",
    "\n",
    "#Best Practice\n",
    "#use descriptive variable names istead of single character names\n",
    "#use underscore to separate words in variable names\n",
    "#use lower case for variable names\n",
    "#use upper case for constants\n",
    "if is_python_easy:\n",
    "    print(\"yes Python is easy\")\n",
    "else:\n",
    "    print(\"No Python is hard\")\n"
   ]
  },
  {
   "cell_type": "markdown",
   "metadata": {},
   "source": [
    "## 4. None Type\n",
    "### a None (`NoneType`)\n",
    "- Represents the absence of a value or a null value.\n",
    "- Used as a placeholder when no valid value is assigned."
   ]
  },
  {
   "cell_type": "code",
   "execution_count": 41,
   "metadata": {},
   "outputs": [
    {
     "name": "stdout",
     "output_type": "stream",
     "text": [
      "nothing_here: None <class 'NoneType'>\n",
      "nothing_here is None <class 'NoneType'>\n"
     ]
    }
   ],
   "source": [
    "#Example of bool data type\n",
    "nothing_here = None\n",
    "print(\"nothing_here:\", nothing_here, type(nothing_here))\n",
    "\n",
    "\n",
    "#Best Practice\n",
    "#use descriptive variable names istead of single character names\n",
    "#use underscore to separate words in variable names\n",
    "if nothing_here is None:\n",
    "    print(\"nothing_here is\" , nothing_here, type(nothing_here))\n",
    "else:\n",
    "    print(\"nothing_here is not None\")"
   ]
  },
  {
   "cell_type": "markdown",
   "metadata": {},
   "source": [
    "## 5. Collection Overview\n",
    "### What Are Collections in Python?\n",
    "Collections in Python are data structures used to store and organize multiple values in an efficient way. They allow storing and manipulating groups of related data, making it easier to work with structured information.\n",
    "\n",
    "### Types of Collections in Python:\n",
    "Python provides four built-in collection types, classified based on their properties:\n",
    "\n",
    "### Collection Types\n",
    "\n",
    "1. **List (`list`)**   - Lists are ordered, mutable sequance.\n",
    "2. **Tuple (`tuple`)** -Tuples are ordered, immutable sequance.\n",
    "3. **Dictionary (`dict`)** - An unorderd set of key-value pairs.\n",
    "4. **Set (`set`)**     - Unordered collection of unique elements.\n",
    "\n",
    "5.1 List:\n",
    "Definition:\n",
    "A list is an ordered, mutable collection that allows storing multiple values of different data types. Lists are defined using square brackets [] or list constructor() support various operations such as adding, removing, and modifying elements.\n",
    "\n",
    "Characteristics of Lists:\n",
    "✅ Ordered (Maintains insertion order)\n",
    "✅ Mutable (Can be changed after creation)\n",
    "✅ Allows duplicate values\n",
    "✅ Supports multiple data types\n"
   ]
  },
  {
   "cell_type": "code",
   "execution_count": 77,
   "metadata": {},
   "outputs": [
    {
     "name": "stdout",
     "output_type": "stream",
     "text": [
      "empty_list: [] <class 'list'>\n",
      "numbers: [10, 20, 30, 40, 50, 60] <class 'list'>\n",
      "mixed_list: [10, 'twenty', 30, 'forty', 50, 'sixty'] <class 'list'>\n",
      "first_element: 10 <class 'int'>\n",
      "last_element: 60 <class 'int'>\n",
      "subset: [30, 40, 50] <class 'list'>\n",
      "index_3: 40 <class 'int'>\n"
     ]
    }
   ],
   "source": [
    "empty_list = []\n",
    "numbers_list = [10, 20, 30, 40, 50, 60]\n",
    "mixed_list = [10, \"twenty\", 30, \"forty\", 50, \"sixty\"]\n",
    "\n",
    "print(\"empty_list:\", empty_list, type(empty_list))\n",
    "print(\"numbers:\", numbers_list, type(numbers_list))\n",
    "print(\"mixed_list:\", mixed_list, type(mixed_list))\n",
    "\n",
    "##Accessign Element by Indexing and slicing of list\n",
    "first_element = numbers_list[0]\n",
    "last_element = numbers_list[-1]\n",
    "index_3 = numbers_list[3]\n",
    "subset = numbers_list[2:5]\n",
    "\n",
    "print(\"first_element:\", first_element, type(first_element))\n",
    "print(\"last_element:\", last_element, type(last_element))\n",
    "print(\"subset:\", subset, type(subset))\n",
    "print(\"index_3:\", index_3, type(index_3))\n",
    "\n"
   ]
  },
  {
   "cell_type": "markdown",
   "metadata": {},
   "source": [
    "Addding, Removing and Modifying"
   ]
  },
  {
   "cell_type": "code",
   "execution_count": 85,
   "metadata": {},
   "outputs": [
    {
     "name": "stdout",
     "output_type": "stream",
     "text": [
      "add numbers: [300, 30, 100, 40, 50, 60] <class 'list'>\n",
      "insert numbers: [300, 30, 100, 40, 50, 60] <class 'list'>\n",
      "After removing the last numbers: [300, 30, 100, 40, 50, 60] <class 'list'>\n",
      "After removing the 100 numbers: [300, 30, 100, 40, 50, 60] <class 'list'>\n",
      "After modifying the 300 numbers: [300, 30, 100, 40, 50, 60] <class 'list'>\n"
     ]
    }
   ],
   "source": [
    "##Adding and inseting elements in list\n",
    "numbers = [10, 20, 30, 40, 50, 60]\n",
    "numbers.append(70) #add element at the end of the list\n",
    "numbers.insert(3, 100) #insert element at a specific index\n",
    "\n",
    "##Removing elements from list\n",
    "numbers.pop() #remove last element\n",
    "numbers.remove(20) #remove element by value\n",
    "\n",
    "# ## Modifying elements in list\n",
    "numbers[0] = 300\n",
    "\n",
    "print(\"add numbers:\", numbers, type(numbers))\n",
    "print(\"insert numbers:\", numbers, type(numbers))\n",
    "\n",
    "print(\"After removing the last numbers:\", numbers, type(numbers))\n",
    "print(\"After removing the 100 numbers:\", numbers, type(numbers))\n",
    "\n",
    "print(\"After modifying the 300 numbers:\", numbers, type(numbers))"
   ]
  },
  {
   "cell_type": "markdown",
   "metadata": {},
   "source": [
    "## 5.2 Tuples in Python\n",
    "## Definition:\n",
    "A tuple is an ordered, immutable collection used to store multiple values. Tuples are defined using parentheses () and can hold elements of different data types.\n",
    "\n",
    "Characteristics of Tuples:\n",
    "1. Ordered (Maintains insertion order)\n",
    "2. Immutable (Cannot be modified after creation)\n",
    "3. Allows duplicate values\n",
    "4. Supports multiple data types"
   ]
  },
  {
   "cell_type": "code",
   "execution_count": 94,
   "metadata": {},
   "outputs": [
    {
     "name": "stdout",
     "output_type": "stream",
     "text": [
      "empty_tuple: () <class 'tuple'>\n",
      "single_element_tuple: (10,) <class 'tuple'>\n",
      "multiple_element_tuple: (10, 20, 30, 40, 50, 60) <class 'tuple'>\n",
      "multiple_element_tuple: (10, 20, 30, 40, 50, 60) <class 'tuple'>\n",
      "first_element: 50 <class 'int'>\n",
      "sub_touple: (30, 40, 50, 60) <class 'tuple'>\n"
     ]
    }
   ],
   "source": [
    "#Touples Example\n",
    "empty_tuple = ()\n",
    "single_element_tuple = (10,)\n",
    "multiple_element_tuple = (10, 20, 30, 40, 50, 60)\n",
    "mixed_tuple = (1, \"pyhton\", 2, \"Version\", 3, \"Canda\")\n",
    "\n",
    "print(\"empty_tuple:\", empty_tuple, type(empty_tuple))\n",
    "print(\"single_element_tuple:\", single_element_tuple, type(single_element_tuple))\n",
    "print(\"multiple_element_tuple:\", multiple_element_tuple, type(multiple_element_tuple))\n",
    "print(\"multiple_element_tuple:\", multiple_element_tuple, type(multiple_element_tuple))\n",
    "\n",
    "\n",
    "#Accessing elements by indexing and slicing of tuple\n",
    "first_element = multiple_element_tuple[4]\n",
    "print(\"first_element:\", first_element, type(first_element))\n",
    "\n",
    "sub_touple = multiple_element_tuple[2:]\n",
    "print(\"sub_touple:\", sub_touple, type(sub_touple))\n"
   ]
  }
 ],
 "metadata": {
  "kernelspec": {
   "display_name": "awfera",
   "language": "python",
   "name": "python3"
  },
  "language_info": {
   "codemirror_mode": {
    "name": "ipython",
    "version": 3
   },
   "file_extension": ".py",
   "mimetype": "text/x-python",
   "name": "python",
   "nbconvert_exporter": "python",
   "pygments_lexer": "ipython3",
   "version": "3.11.11"
  }
 },
 "nbformat": 4,
 "nbformat_minor": 2
}
